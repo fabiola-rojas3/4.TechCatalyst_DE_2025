{
 "cells": [
  {
   "cell_type": "code",
   "execution_count": 4,
   "id": "94b0482a",
   "metadata": {},
   "outputs": [],
   "source": [
    "from ollama import chat\n"
   ]
  },
  {
   "cell_type": "code",
   "execution_count": 15,
   "id": "a8ff8852",
   "metadata": {},
   "outputs": [
    {
     "name": "stdout",
     "output_type": "stream",
     "text": [
      "Welcome to the Email Writing Assistant!\n",
      "\n",
      "Email:\n",
      "Subject: Having Too Much Fun and Work, I'm Afraid! It's Awesome!!!\n",
      "\n",
      "Dear Team,\n",
      "\n",
      "I am writing to express my strong desire and appreciation for the opportunity that comes with working at [Company Name]. We are a dynamic team that strives to provide our best employees with the most challenging yet rewarding work environments. I find joy in every aspect of my job, from brainstorming sessions to professional development workshops. I believe that this environment offers immense value and challenges us to grow both personally and professionally.\n",
      "\n",
      "I am excited about the prospect of joining the team at [Company Name], as it will undoubtedly bring new energy and enthusiasm into our work life balance. As you know, my time here is often filled with meeting deadlines and dealing with high expectations from my colleagues. However, I'm eager to contribute more significantly in this role and explore ways to enhance my skills and enjoy the team's atmosphere even more.\n",
      "\n",
      "Thank you for considering my request. I look forward to a productive and enjoyable collaboration at [Company Name]. If you have any questions or would like to discuss potential opportunities within our company, please feel free to reach out. I am committed to ensuring that my time is well-utilized in the work environment we provide.\n",
      "\n",
      "Thank you for your consideration, and I look forward to a future where we can all thrive together. \n",
      "\n",
      "Best regards,\n",
      "[Your Name]\n",
      "[Company Name]\n"
     ]
    }
   ],
   "source": [
    "model = 'smollm2:135m'\n",
    "\n",
    "# Function to generate an email\n",
    "def generate_email(subject, recipient_name, additional_info):\n",
    "    # Step 1: Create the prompt to guide the AI in generating the email\n",
    "    prompt = f\"Write a professional email to {recipient_name} with the subject '{subject}'. Include the following information: {additional_info}\"\n",
    "    \n",
    "    # Step 2: Call the OpenAI API to generate the email\n",
    "    # Hint: Use the 'chat' endpoint to create a completion based on the prompt\n",
    "    response = chat(\n",
    "        model= model,\n",
    "        messages=[\n",
    "            {\"role\": \"system\", \"content\": \"You are a helpful diva.\"},\n",
    "            {\"role\": \"user\", \"content\": prompt},\n",
    "        ],\n",
    "    )\n",
    "    \n",
    "    # Step 3: Extract and return the generated email content from the API response\n",
    "    return response.message.content#<-- Complete this line to get the email content\n",
    "\n",
    "# Function to start the email writing assistant\n",
    "def email_writing_assistant():\n",
    "    print(\"Welcome to the Email Writing Assistant!\\n\")\n",
    "    \n",
    "    # Step 4: Gather user input for the email subject, recipient name, and additional information\n",
    "    subject = input(\"Input subject\")\n",
    "    recipient_name = input(\"Input recipient\")\n",
    "    additional_info = input(\"Input additional info\")\n",
    "    \n",
    "    # Step 5: Call the 'generate_email' function and display the generated email\n",
    "    email = generate_email(subject, recipient_name, additional_info)\n",
    "    print(f\"Email:\\n{email}\")\n",
    "\n",
    "# Start the email writing assistant\n",
    "email_writing_assistant()"
   ]
  },
  {
   "cell_type": "markdown",
   "id": "fdbecfc2",
   "metadata": {},
   "source": [
    "\n",
    "\n",
    "\n",
    "```\n",
    "\n",
    "### Prompt Challenge\n",
    "\n",
    "Modify the template to include different email tones (e.g., formal, friendly, urgent). Add an extra input where the user can specify a tone, and adjust the prompt accordingly.\n",
    "\n",
    "1. Update `email_writing_assistant` function to also capture tone. You can name the variable `input_tone`\n",
    "2. Update `generate_email` function to take an additional parameter `input_tone`\n",
    "3. Update the messages list to include the tone. Here is an example:\n",
    "\n",
    "```python\n",
    "messages=[\n",
    "            {\"role\": \"system\", \"content\": f\"You are a helpful assistant. Always reply in a {input_tone} tone \"},\n",
    "            {\"role\": \"user\", \"content\": prompt},\n",
    "        ],\n",
    "\n",
    "\n",
    "```\n",
    "\n",
    "Test your the code.\n",
    "\n",
    "### Prompt Bonus Challenge\n",
    "\n",
    "Modify the prompt to include an additional input parameter `critical_date`\n",
    "\n",
    "```python\n",
    "f\"Write a professional email to {recipient_name} with the subject '{subject}' and '{critical_date}'. Include the following information: {additional_info}\"\n",
    "```"
   ]
  },
  {
   "cell_type": "code",
   "execution_count": 16,
   "id": "ad2d1a74",
   "metadata": {},
   "outputs": [
    {
     "name": "stderr",
     "output_type": "stream",
     "text": [
      "/workspaces/4.TechCatalyst_DE_2025/dev6/lib/python3.12/site-packages/tqdm/auto.py:21: TqdmWarning: IProgress not found. Please update jupyter and ipywidgets. See https://ipywidgets.readthedocs.io/en/stable/user_install.html\n",
      "  from .autonotebook import tqdm as notebook_tqdm\n"
     ]
    }
   ],
   "source": [
    "import gradio as gr"
   ]
  },
  {
   "cell_type": "code",
   "execution_count": 17,
   "id": "fbd7ff7c",
   "metadata": {},
   "outputs": [
    {
     "name": "stdout",
     "output_type": "stream",
     "text": [
      "* Running on local URL:  http://127.0.0.1:7860\n",
      "* To create a public link, set `share=True` in `launch()`.\n"
     ]
    },
    {
     "data": {
      "text/html": [
       "<div><iframe src=\"http://127.0.0.1:7860/\" width=\"100%\" height=\"500\" allow=\"autoplay; camera; microphone; clipboard-read; clipboard-write;\" frameborder=\"0\" allowfullscreen></iframe></div>"
      ],
      "text/plain": [
       "<IPython.core.display.HTML object>"
      ]
     },
     "metadata": {},
     "output_type": "display_data"
    },
    {
     "data": {
      "text/plain": []
     },
     "execution_count": 17,
     "metadata": {},
     "output_type": "execute_result"
    }
   ],
   "source": [
    "def greeting(name):\n",
    "    return f'Welcome to the family {name}'\n",
    "\n",
    "demo = gr.Interface(\n",
    "    fn=greeting,\n",
    "    inputs=gr.Text(),\n",
    "    outputs=gr.Text()\n",
    ")\n",
    "\n",
    "demo.launch()"
   ]
  },
  {
   "cell_type": "code",
   "execution_count": 19,
   "id": "2839c191",
   "metadata": {},
   "outputs": [
    {
     "name": "stdout",
     "output_type": "stream",
     "text": [
      "Closing server running on port: 7860\n"
     ]
    }
   ],
   "source": [
    "demo.close()\n"
   ]
  },
  {
   "cell_type": "code",
   "execution_count": 22,
   "id": "bdc0648f",
   "metadata": {},
   "outputs": [
    {
     "name": "stdout",
     "output_type": "stream",
     "text": [
      "* Running on local URL:  http://127.0.0.1:7860\n",
      "* To create a public link, set `share=True` in `launch()`.\n"
     ]
    },
    {
     "data": {
      "text/html": [
       "<div><iframe src=\"http://127.0.0.1:7860/\" width=\"100%\" height=\"500\" allow=\"autoplay; camera; microphone; clipboard-read; clipboard-write;\" frameborder=\"0\" allowfullscreen></iframe></div>"
      ],
      "text/plain": [
       "<IPython.core.display.HTML object>"
      ]
     },
     "metadata": {},
     "output_type": "display_data"
    },
    {
     "data": {
      "text/plain": []
     },
     "execution_count": 22,
     "metadata": {},
     "output_type": "execute_result"
    }
   ],
   "source": [
    "import gradio as gr\n",
    "\n",
    "def greeting(name):\n",
    "    return f\"Hello {name}, it's great to see you\"\n",
    "\n",
    "demo = gr.Interface(\n",
    "    fn=greeting,\n",
    "    inputs=gr.Text(label=\"Name\", placeholder=\"What is your name:\"),\n",
    "    outputs=gr.Text(),\n",
    "    \n",
    "    title=\"My Greeting Application\",\n",
    "    description=\"This is the best greeting up out there\",\n",
    "    theme=\"soft\"\n",
    ")\n",
    "demo.launch()"
   ]
  },
  {
   "cell_type": "code",
   "execution_count": 23,
   "id": "c019394c",
   "metadata": {},
   "outputs": [
    {
     "name": "stdout",
     "output_type": "stream",
     "text": [
      "Closing server running on port: 7860\n"
     ]
    }
   ],
   "source": [
    "demo.close()"
   ]
  },
  {
   "cell_type": "markdown",
   "id": "3f8c7948",
   "metadata": {},
   "source": [
    "ui = gr.Interface(\n",
    "    fn=generate_email,\n",
    "    inputs=[\n",
    "        gr.Textbox(label=\"Email Subject\", placeholder=\"e.g., Project Update Meeting\"),\n",
    "        gr.Textbox(label=\"Recipient's Name\", placeholder=\"e.g., Jane Doe\"),\n",
    "        gr.Textbox(label=\"Additional Information\", lines=5, placeholder=\"e.g., I would like to schedule a meeting for this Friday at 10 AM to discuss the Q3 project milestones.\")\n",
    "    ],\n",
    "    outputs=gr.Textbox(label=\"Generated Email\", lines=15, show_copy_button=True),\n",
    "    title=\"AI Email Writing Assistant\",\n",
    "    description=\"Enter a subject, recipient, and some key points. The AI will generate a professional email for you using Ollama and the `smollm2:135m` model.\",\n",
    "    theme=\"soft\"\n",
    ")\n",
    "ui.launch(share=True)"
   ]
  },
  {
   "cell_type": "code",
   "execution_count": 25,
   "id": "5688b98e",
   "metadata": {},
   "outputs": [
    {
     "name": "stdout",
     "output_type": "stream",
     "text": [
      "Closing server running on port: 7860\n"
     ]
    }
   ],
   "source": [
    "ui.close()"
   ]
  },
  {
   "cell_type": "code",
   "execution_count": null,
   "id": "d37d9106",
   "metadata": {},
   "outputs": [],
   "source": []
  }
 ],
 "metadata": {
  "kernelspec": {
   "display_name": "dev6",
   "language": "python",
   "name": "python3"
  },
  "language_info": {
   "codemirror_mode": {
    "name": "ipython",
    "version": 3
   },
   "file_extension": ".py",
   "mimetype": "text/x-python",
   "name": "python",
   "nbconvert_exporter": "python",
   "pygments_lexer": "ipython3",
   "version": "3.12.1"
  }
 },
 "nbformat": 4,
 "nbformat_minor": 5
}
