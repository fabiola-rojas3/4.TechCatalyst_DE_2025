{
 "cells": [
  {
   "cell_type": "markdown",
   "id": "be7c1ed9",
   "metadata": {},
   "source": [
    "## Lab: Visitor Analytics with AWS Rekognition, S3, and Glue\n"
   ]
  },
  {
   "cell_type": "markdown",
   "id": "79c0438c",
   "metadata": {},
   "source": [
    "### Setup"
   ]
  },
  {
   "cell_type": "code",
   "execution_count": null,
   "id": "5d4e9f97",
   "metadata": {},
   "outputs": [
    {
     "data": {
      "text/plain": [
       "True"
      ]
     },
     "execution_count": 5,
     "metadata": {},
     "output_type": "execute_result"
    }
   ],
   "source": [
    "import boto3\n",
    "import os\n",
    "from dotenv import load_dotenv\n",
    "\n",
    "s3_client = boto3.client('s3')\n",
    "load_dotenv(../.env)"
   ]
  },
  {
   "cell_type": "code",
   "execution_count": 6,
   "id": "e5553af6",
   "metadata": {},
   "outputs": [],
   "source": [
    "# List of car makes to search for (already uppercase)\n",
    "car_makes = [\n",
    "    'TOYOTA', 'HONDA', 'FORD', 'CHEVROLET', 'NISSAN', 'JEEP', 'HYUNDAI', 'KIA',\n",
    "    'SUBARU', 'RAM', 'GMC', 'BMW', 'MERCEDES-BENZ', 'LEXUS', 'AUDI', 'VOLKSWAGEN',\n",
    "    'TESLA', 'ACURA', 'CADILLAC', 'CHRYSLER', 'DODGE', 'INFINITI', 'LINCOLN', 'MAZDA'\n",
    "]\n",
    "\n",
    "# List of full US state names for searching\n",
    "us_state_names = [\n",
    "    'Alabama', 'Alaska', 'Arizona', 'Arkansas', 'California', 'Colorado', 'Connecticut',\n",
    "    'Delaware', 'Florida', 'Georgia', 'Hawaii', 'Idaho', 'Illinois', 'Indiana', 'Iowa',\n",
    "    'Kansas', 'Kentucky', 'Louisiana', 'Maine', 'Maryland', 'Massachusetts', 'Michigan',\n",
    "    'Minnesota', 'Mississippi', 'Missouri', 'Montana', 'Nebraska', 'Nevada',\n",
    "    'New Hampshire', 'New Jersey', 'New Mexico', 'New York', 'North Carolina',\n",
    "    'North Dakota', 'Ohio', 'Oklahoma', 'Oregon', 'Pennsylvania', 'Rhode Island',\n",
    "    'South Carolina', 'South Dakota', 'Tennessee', 'Texas', 'Utah', 'Vermont',\n",
    "    'Virginia', 'Washington', 'West Virginia', 'Wisconsin', 'Wyoming', 'District of Columbia'\n",
    "]"
   ]
  },
  {
   "cell_type": "markdown",
   "id": "e06a10a3",
   "metadata": {},
   "source": [
    "### Upload raw images from local directory to S3"
   ]
  },
  {
   "cell_type": "code",
   "execution_count": 7,
   "id": "a58fec8a",
   "metadata": {},
   "outputs": [
    {
     "name": "stdout",
     "output_type": "stream",
     "text": [
      "Uploaded 1c62dcbf9a6c22c7.jpg to s3://techcatalyst-raw/fabiola/ai/images_raw/1c62dcbf9a6c22c7.jpg\n",
      "Uploaded b541cf545aaca2c4.jpg to s3://techcatalyst-raw/fabiola/ai/images_raw/b541cf545aaca2c4.jpg\n",
      "Uploaded f3ecacf903a52827.jpg to s3://techcatalyst-raw/fabiola/ai/images_raw/f3ecacf903a52827.jpg\n",
      "Uploaded 2f6fbf1e163dd7ed.jpg to s3://techcatalyst-raw/fabiola/ai/images_raw/2f6fbf1e163dd7ed.jpg\n",
      "Uploaded f484d1b789e6ed63.jpg to s3://techcatalyst-raw/fabiola/ai/images_raw/f484d1b789e6ed63.jpg\n",
      "Uploaded 27801b00dbefaa6d.jpg to s3://techcatalyst-raw/fabiola/ai/images_raw/27801b00dbefaa6d.jpg\n",
      "Uploaded bd308fea65994fd5.jpg to s3://techcatalyst-raw/fabiola/ai/images_raw/bd308fea65994fd5.jpg\n",
      "Uploaded 2c75228218b9f9c5.jpg to s3://techcatalyst-raw/fabiola/ai/images_raw/2c75228218b9f9c5.jpg\n",
      "Uploaded 3831e7027912e1e2.jpg to s3://techcatalyst-raw/fabiola/ai/images_raw/3831e7027912e1e2.jpg\n",
      "Uploaded 30e5cfb58d3535e5.jpg to s3://techcatalyst-raw/fabiola/ai/images_raw/30e5cfb58d3535e5.jpg\n",
      "Uploaded 2c57bd6d734b6ff3.jpg to s3://techcatalyst-raw/fabiola/ai/images_raw/2c57bd6d734b6ff3.jpg\n",
      "Uploaded b7e7072fc29fd465.jpg to s3://techcatalyst-raw/fabiola/ai/images_raw/b7e7072fc29fd465.jpg\n",
      "Uploaded 1c00790f8e592ab2.jpg to s3://techcatalyst-raw/fabiola/ai/images_raw/1c00790f8e592ab2.jpg\n",
      "Uploaded be444dbec1531469.jpg to s3://techcatalyst-raw/fabiola/ai/images_raw/be444dbec1531469.jpg\n",
      "Uploaded ff1c8c4b3e934834.jpg to s3://techcatalyst-raw/fabiola/ai/images_raw/ff1c8c4b3e934834.jpg\n",
      "Uploaded 19306e847f2dbe79.jpg to s3://techcatalyst-raw/fabiola/ai/images_raw/19306e847f2dbe79.jpg\n",
      "Uploaded 314a92443055fcb4.jpg to s3://techcatalyst-raw/fabiola/ai/images_raw/314a92443055fcb4.jpg\n",
      "Uploaded fb2ee89cfe29396a.jpg to s3://techcatalyst-raw/fabiola/ai/images_raw/fb2ee89cfe29396a.jpg\n",
      "Uploaded 1d5b964bef140076.jpg to s3://techcatalyst-raw/fabiola/ai/images_raw/1d5b964bef140076.jpg\n",
      "Uploaded 34648969fa39542f.jpg to s3://techcatalyst-raw/fabiola/ai/images_raw/34648969fa39542f.jpg\n",
      "Uploaded 1ac5b485b95c9f00.jpg to s3://techcatalyst-raw/fabiola/ai/images_raw/1ac5b485b95c9f00.jpg\n",
      "Uploaded 379b34acaa12842a.jpg to s3://techcatalyst-raw/fabiola/ai/images_raw/379b34acaa12842a.jpg\n",
      "Uploaded 330ac77b36168d85.jpg to s3://techcatalyst-raw/fabiola/ai/images_raw/330ac77b36168d85.jpg\n",
      "Uploaded 37849965c0121f83.jpg to s3://techcatalyst-raw/fabiola/ai/images_raw/37849965c0121f83.jpg\n",
      "Uploaded 29ab3cf353e1f894.jpg to s3://techcatalyst-raw/fabiola/ai/images_raw/29ab3cf353e1f894.jpg\n",
      "Uploaded f19e940da49a3405.jpg to s3://techcatalyst-raw/fabiola/ai/images_raw/f19e940da49a3405.jpg\n",
      "Uploaded 365ffe4454fead9f.jpg to s3://techcatalyst-raw/fabiola/ai/images_raw/365ffe4454fead9f.jpg\n",
      "Uploaded 37a515312eca1d5a.jpg to s3://techcatalyst-raw/fabiola/ai/images_raw/37a515312eca1d5a.jpg\n",
      "Uploaded 36e1293915bb2033.jpg to s3://techcatalyst-raw/fabiola/ai/images_raw/36e1293915bb2033.jpg\n",
      "Uploaded b039b15d520a07c3.jpg to s3://techcatalyst-raw/fabiola/ai/images_raw/b039b15d520a07c3.jpg\n",
      "Uploaded fbb2d8f1b1e61186.jpg to s3://techcatalyst-raw/fabiola/ai/images_raw/fbb2d8f1b1e61186.jpg\n"
     ]
    }
   ],
   "source": [
    "directory = 'Images'\n",
    "bucket_name = 'techcatalyst-raw'\n",
    "path_prefix = 'fabiola/ai/images_raw/'\n",
    "\n",
    "for filename in os.listdir(directory):\n",
    "    if filename.lower().endswith('.jpg'):\n",
    "        file_path = os.path.join(directory, filename)\n",
    "        s3_key = f\"{path_prefix}{filename}\"\n",
    "\n",
    "        s3_client.upload_file(Filename=file_path, Bucket=bucket_name, Key=s3_key)\n",
    "        print(f\"Uploaded {filename} to s3://{bucket_name}/{s3_key}\")\n",
    "\n",
    "        "
   ]
  },
  {
   "cell_type": "markdown",
   "id": "ac420c09",
   "metadata": {},
   "source": [
    "### Object list"
   ]
  },
  {
   "cell_type": "code",
   "execution_count": 9,
   "id": "55a03a50",
   "metadata": {},
   "outputs": [
    {
     "data": {
      "text/plain": [
       "['s3://techcatalyst-raw/fabiola/ai/images_raw/19306e847f2dbe79.jpg',\n",
       " 's3://techcatalyst-raw/fabiola/ai/images_raw/1ac5b485b95c9f00.jpg',\n",
       " 's3://techcatalyst-raw/fabiola/ai/images_raw/1c00790f8e592ab2.jpg',\n",
       " 's3://techcatalyst-raw/fabiola/ai/images_raw/1c62dcbf9a6c22c7.jpg',\n",
       " 's3://techcatalyst-raw/fabiola/ai/images_raw/1d5b964bef140076.jpg']"
      ]
     },
     "execution_count": 9,
     "metadata": {},
     "output_type": "execute_result"
    }
   ],
   "source": [
    "import awswrangler as wr\n",
    "\n",
    "objects = wr.s3.list_objects('s3://techcatalyst-raw/fabiola/ai/images_raw/')\n",
    "objects[0:5]\n"
   ]
  },
  {
   "cell_type": "markdown",
   "id": "a247e11a",
   "metadata": {},
   "source": [
    "### Text detection"
   ]
  },
  {
   "cell_type": "code",
   "execution_count": 20,
   "id": "5f734627",
   "metadata": {},
   "outputs": [
    {
     "data": {
      "text/plain": [
       "['', 'fabiola/ai/images_raw/1ac5b485b95c9f00.jpg']"
      ]
     },
     "execution_count": 20,
     "metadata": {},
     "output_type": "execute_result"
    }
   ],
   "source": [
    "objects[1].split('s3://techcatalyst-raw/')"
   ]
  },
  {
   "cell_type": "code",
   "execution_count": 27,
   "id": "35fe2048",
   "metadata": {},
   "outputs": [
    {
     "name": "stdout",
     "output_type": "stream",
     "text": [
      "image 19306e847f2dbe79.jpg recognized\n",
      "output stored\n",
      ".................\n",
      "image 1ac5b485b95c9f00.jpg recognized\n",
      "output stored\n",
      ".................\n",
      "image 1c00790f8e592ab2.jpg recognized\n",
      "output stored\n",
      ".................\n",
      "image 1c62dcbf9a6c22c7.jpg recognized\n",
      "output stored\n",
      ".................\n",
      "image 1d5b964bef140076.jpg recognized\n",
      "output stored\n",
      ".................\n",
      "image 27801b00dbefaa6d.jpg recognized\n",
      "output stored\n",
      ".................\n",
      "image 29ab3cf353e1f894.jpg recognized\n",
      "output stored\n",
      ".................\n",
      "image 2c57bd6d734b6ff3.jpg recognized\n",
      "output stored\n",
      ".................\n",
      "image 2c75228218b9f9c5.jpg recognized\n",
      "output stored\n",
      ".................\n",
      "image 2f6fbf1e163dd7ed.jpg recognized\n",
      "output stored\n",
      ".................\n",
      "image 30e5cfb58d3535e5.jpg recognized\n",
      "output stored\n",
      ".................\n",
      "image 314a92443055fcb4.jpg recognized\n",
      "output stored\n",
      ".................\n",
      "image 330ac77b36168d85.jpg recognized\n",
      "output stored\n",
      ".................\n",
      "image 34648969fa39542f.jpg recognized\n",
      "output stored\n",
      ".................\n",
      "image 365ffe4454fead9f.jpg recognized\n",
      "output stored\n",
      ".................\n",
      "image 36e1293915bb2033.jpg recognized\n",
      "output stored\n",
      ".................\n",
      "image 37849965c0121f83.jpg recognized\n",
      "output stored\n",
      ".................\n",
      "image 379b34acaa12842a.jpg recognized\n",
      "output stored\n",
      ".................\n",
      "image 37a515312eca1d5a.jpg recognized\n",
      "output stored\n",
      ".................\n",
      "image 3831e7027912e1e2.jpg recognized\n",
      "output stored\n",
      ".................\n",
      "image b039b15d520a07c3.jpg recognized\n",
      "output stored\n",
      ".................\n",
      "image b541cf545aaca2c4.jpg recognized\n",
      "output stored\n",
      ".................\n",
      "image b7e7072fc29fd465.jpg recognized\n",
      "output stored\n",
      ".................\n",
      "image bd308fea65994fd5.jpg recognized\n",
      "output stored\n",
      ".................\n",
      "image be444dbec1531469.jpg recognized\n",
      "output stored\n",
      ".................\n",
      "image f19e940da49a3405.jpg recognized\n",
      "output stored\n",
      ".................\n",
      "image f3ecacf903a52827.jpg recognized\n",
      "output stored\n",
      ".................\n",
      "image f484d1b789e6ed63.jpg recognized\n",
      "output stored\n",
      ".................\n",
      "image fb2ee89cfe29396a.jpg recognized\n",
      "output stored\n",
      ".................\n",
      "image fbb2d8f1b1e61186.jpg recognized\n",
      "output stored\n",
      ".................\n",
      "image ff1c8c4b3e934834.jpg recognized\n",
      "output stored\n",
      ".................\n"
     ]
    }
   ],
   "source": [
    "rekognition_client = boto3.client('rekognition')\n",
    "output = []\n",
    "\n",
    "for obj in objects:\n",
    "    s3_key = obj.split('s3://techcatalyst-raw/')[-1]\n",
    "    response = rekognition_client.detect_text(\n",
    "            Image={'S3Object' : {'Bucket' : bucket_name, 'Name' : s3_key}}\n",
    "                )\n",
    "    \n",
    "    print(f\"image {obj.split('/')[-1]} recognized\")\n",
    "\n",
    "    # extract detected text\n",
    "    detected_text = [item['DetectedText'] for item in response['TextDetections'] if item['Type'] == 'WORD']\n",
    "\n",
    "    output.append({\n",
    "        'image': obj.split('/')[-1],\n",
    "        'detected_text': detected_text,\n",
    "        'uri': obj,\n",
    "        'image_key' : s3_key\n",
    "    })\n",
    "\n",
    "    print(\"output stored\")\n",
    "    print(\".................\")\n",
    "\n",
    "\n",
    "    "
   ]
  },
  {
   "cell_type": "markdown",
   "id": "f027b135",
   "metadata": {},
   "source": [
    "### process raw data, extract car make and state"
   ]
  },
  {
   "cell_type": "code",
   "execution_count": 28,
   "id": "224f59d8",
   "metadata": {},
   "outputs": [
    {
     "name": "stdout",
     "output_type": "stream",
     "text": [
      "data processing complete :)\n"
     ]
    }
   ],
   "source": [
    "processed_data = []\n",
    "\n",
    "for item in output:\n",
    "    image = item['image']\n",
    "\n",
    "    full_text = ' '.join(item['detected_text']).upper()\n",
    "\n",
    "    found_make = None\n",
    "    found_state = None\n",
    "\n",
    "    # find car make\n",
    "    for make in car_makes:\n",
    "        if make in full_text:\n",
    "            found_make = make.title()\n",
    "            break\n",
    "    \n",
    "    # find state\n",
    "    for state in us_state_names:\n",
    "        if state.upper() in full_text:\n",
    "            found_state = state.title()\n",
    "            break\n",
    "\n",
    "    processed_data.append({\n",
    "        'image_name': image,\n",
    "        'car_make': found_make,\n",
    "        'state': found_state,\n",
    "        'image_key': item['image_key']\n",
    "    })\n",
    "\n",
    "print(\"data processing complete :)\")"
   ]
  },
  {
   "cell_type": "markdown",
   "id": "b110de21",
   "metadata": {},
   "source": [
    "### processed data to df"
   ]
  },
  {
   "cell_type": "code",
   "execution_count": 42,
   "id": "ba9db365",
   "metadata": {},
   "outputs": [
    {
     "data": {
      "text/html": [
       "<div>\n",
       "<style scoped>\n",
       "    .dataframe tbody tr th:only-of-type {\n",
       "        vertical-align: middle;\n",
       "    }\n",
       "\n",
       "    .dataframe tbody tr th {\n",
       "        vertical-align: top;\n",
       "    }\n",
       "\n",
       "    .dataframe thead th {\n",
       "        text-align: right;\n",
       "    }\n",
       "</style>\n",
       "<table border=\"1\" class=\"dataframe\">\n",
       "  <thead>\n",
       "    <tr style=\"text-align: right;\">\n",
       "      <th></th>\n",
       "      <th>image_name</th>\n",
       "      <th>car_make</th>\n",
       "      <th>state</th>\n",
       "      <th>image_key</th>\n",
       "    </tr>\n",
       "  </thead>\n",
       "  <tbody>\n",
       "    <tr>\n",
       "      <th>0</th>\n",
       "      <td>19306e847f2dbe79.jpg</td>\n",
       "      <td>Not Found</td>\n",
       "      <td>Virginia</td>\n",
       "      <td>fabiola/ai/images_raw/19306e847f2dbe79.jpg</td>\n",
       "    </tr>\n",
       "    <tr>\n",
       "      <th>1</th>\n",
       "      <td>1ac5b485b95c9f00.jpg</td>\n",
       "      <td>Not Found</td>\n",
       "      <td>California</td>\n",
       "      <td>fabiola/ai/images_raw/1ac5b485b95c9f00.jpg</td>\n",
       "    </tr>\n",
       "    <tr>\n",
       "      <th>2</th>\n",
       "      <td>1c00790f8e592ab2.jpg</td>\n",
       "      <td>Not Found</td>\n",
       "      <td>Virginia</td>\n",
       "      <td>fabiola/ai/images_raw/1c00790f8e592ab2.jpg</td>\n",
       "    </tr>\n",
       "    <tr>\n",
       "      <th>3</th>\n",
       "      <td>1c62dcbf9a6c22c7.jpg</td>\n",
       "      <td>Ford</td>\n",
       "      <td>California</td>\n",
       "      <td>fabiola/ai/images_raw/1c62dcbf9a6c22c7.jpg</td>\n",
       "    </tr>\n",
       "    <tr>\n",
       "      <th>4</th>\n",
       "      <td>1d5b964bef140076.jpg</td>\n",
       "      <td>Not Found</td>\n",
       "      <td>Virginia</td>\n",
       "      <td>fabiola/ai/images_raw/1d5b964bef140076.jpg</td>\n",
       "    </tr>\n",
       "  </tbody>\n",
       "</table>\n",
       "</div>"
      ],
      "text/plain": [
       "             image_name   car_make       state  \\\n",
       "0  19306e847f2dbe79.jpg  Not Found    Virginia   \n",
       "1  1ac5b485b95c9f00.jpg  Not Found  California   \n",
       "2  1c00790f8e592ab2.jpg  Not Found    Virginia   \n",
       "3  1c62dcbf9a6c22c7.jpg       Ford  California   \n",
       "4  1d5b964bef140076.jpg  Not Found    Virginia   \n",
       "\n",
       "                                    image_key  \n",
       "0  fabiola/ai/images_raw/19306e847f2dbe79.jpg  \n",
       "1  fabiola/ai/images_raw/1ac5b485b95c9f00.jpg  \n",
       "2  fabiola/ai/images_raw/1c00790f8e592ab2.jpg  \n",
       "3  fabiola/ai/images_raw/1c62dcbf9a6c22c7.jpg  \n",
       "4  fabiola/ai/images_raw/1d5b964bef140076.jpg  "
      ]
     },
     "execution_count": 42,
     "metadata": {},
     "output_type": "execute_result"
    }
   ],
   "source": [
    "import pandas as pd\n",
    "df = pd.DataFrame(processed_data)\n",
    "df.fillna('Not Found', inplace=True) \n",
    "df.head()"
   ]
  },
  {
   "cell_type": "markdown",
   "id": "e6fc9ad4",
   "metadata": {},
   "source": [
    "### store in s3 as parquet"
   ]
  },
  {
   "cell_type": "code",
   "execution_count": 43,
   "id": "12cdf898",
   "metadata": {},
   "outputs": [
    {
     "data": {
      "text/plain": [
       "{'paths': ['s3://techcatalyst-raw/fabiola/ai/images_processed/processed_data.parquet'],\n",
       " 'partitions_values': {}}"
      ]
     },
     "execution_count": 43,
     "metadata": {},
     "output_type": "execute_result"
    }
   ],
   "source": [
    "wr.s3.to_parquet(df=df, path='s3://techcatalyst-raw/fabiola/ai/images_processed/processed_data.parquet')"
   ]
  },
  {
   "cell_type": "markdown",
   "id": "45da99a3",
   "metadata": {},
   "source": [
    "### create plots"
   ]
  },
  {
   "cell_type": "code",
   "execution_count": null,
   "id": "c6dd22fd",
   "metadata": {},
   "outputs": [],
   "source": [
    "import matplotlib.pyplot as plt"
   ]
  },
  {
   "cell_type": "code",
   "execution_count": 57,
   "id": "177161e0",
   "metadata": {},
   "outputs": [
    {
     "data": {
      "image/png": "[encoded data removed]",
      "text/plain": [
       "<Figure size 640x480 with 1 Axes>"
      ]
     },
     "metadata": {},
     "output_type": "display_data"
    }
   ],
   "source": [
    "# car make \n",
    "df['car_make'].value_counts().plot(kind='pie')\n",
    "plt.title('Car Makes')\n",
    "plt.show()"
   ]
  },
  {
   "cell_type": "code",
   "execution_count": 58,
   "id": "0a573a19",
   "metadata": {},
   "outputs": [
    {
     "data": {
      "image/png": "[encoded data removed]",
      "text/plain": [
       "<Figure size 640x480 with 1 Axes>"
      ]
     },
     "metadata": {},
     "output_type": "display_data"
    }
   ],
   "source": [
    "# car state \n",
    "df['state'].value_counts().plot(kind='pie')\n",
    "plt.title('States')\n",
    "plt.show()"
   ]
  },
  {
   "cell_type": "code",
   "execution_count": 59,
   "id": "a6d5ba50",
   "metadata": {},
   "outputs": [
    {
     "data": {
      "text/plain": [
       "<Figure size 640x480 with 0 Axes>"
      ]
     },
     "metadata": {},
     "output_type": "display_data"
    }
   ],
   "source": [
    "plt.savefig('car_make_pie_chart.png')\n",
    "plt.savefig('car_state_pie_chart.png')"
   ]
  },
  {
   "cell_type": "markdown",
   "id": "7dae62d0",
   "metadata": {},
   "source": [
    "### upload pngs to s3"
   ]
  },
  {
   "cell_type": "code",
   "execution_count": 60,
   "id": "14472c30",
   "metadata": {},
   "outputs": [],
   "source": [
    "wr.s3.upload(local_file='car_make_pie_chart.png',path='s3://techcatalyst-raw/fabiola/ai/images_processed/car_make_pie_chart.png')\n",
    "wr.s3.upload(local_file='car_state_pie_chart.png',path='s3://techcatalyst-raw/fabiola/ai/images_processed/car_state_pie_chart.png')"
   ]
  }
 ],
 "metadata": {
  "kernelspec": {
   "display_name": "dev6",
   "language": "python",
   "name": "python3"
  },
  "language_info": {
   "codemirror_mode": {
    "name": "ipython",
    "version": 3
   },
   "file_extension": ".py",
   "mimetype": "text/x-python",
   "name": "python",
   "nbconvert_exporter": "python",
   "pygments_lexer": "ipython3",
   "version": "3.12.1"
  }
 },
 "nbformat": 4,
 "nbformat_minor": 5
}
